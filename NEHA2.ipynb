{
 "cells": [
  {
   "cell_type": "code",
   "execution_count": 11,
   "id": "a5ca9fad",
   "metadata": {},
   "outputs": [
    {
     "name": "stdout",
     "output_type": "stream",
     "text": [
      "Enter a binary number:1010\n",
      "10\n",
      "Enter an octal number:675\n",
      "1BD\n"
     ]
    }
   ],
   "source": [
    "def bin2dec(val):\n",
    "    rev=val[::-1]\n",
    "    dec=0\n",
    "    i=0\n",
    "    for dig in rev:\n",
    "        dec+=int(dig)*2**i\n",
    "        i+=1\n",
    "    return dec\n",
    "\n",
    "def oct2hex(val):\n",
    "    rev=val[::-1]\n",
    "    dec=034\n",
    "    i=0\n",
    "    for dig in rev:\n",
    "        dec+=int(dig)*8**i\n",
    "        i+=1\n",
    "    list=[]\n",
    "    while dec!=0:\n",
    "        list.append(dec%16)\n",
    "        dec=dec//16\n",
    "    n1=[]\n",
    "    for ele in list[::-1]:\n",
    "            if ele<=9:\n",
    "                  n1.append(str(ele))\n",
    "            else:\n",
    "                n1.append(chr(ord('A')+(ele-10)))\n",
    "                hex=\"\".join(n1)\n",
    "    return hex\n",
    "\n",
    "num1=input(\"Enter a binary number:\")\n",
    "print(bin2dec(num1))\n",
    "num2=input(\"Enter an octal number:\")\n",
    "print(oct2hex(num2))"
   ]
  },
  {
   "cell_type": "code",
   "execution_count": 7,
   "id": "2f1eb05e",
   "metadata": {},
   "outputs": [
    {
     "name": "stdout",
     "output_type": "stream",
     "text": [
      "Enter a sentence:Rama went to Devaraja market to pick 2 kgs of vegetable\n",
      "This sentences has 11 words\n",
      "The sentence has 1 digits 2 upper case letters 42 lower case letters\n"
     ]
    }
   ],
   "source": [
    "sen=input(\"Enter a sentence:\")\n",
    "wordlist=sen.split(\" \")\n",
    "print(\"This sentences has\",len(wordlist),\"words\")\n",
    "digcnt=upcnt=locnt=0\n",
    "for ch in sen:\n",
    "    if '0'<=ch<='9':\n",
    "        digcnt+=1\n",
    "    elif 'A'<=ch<='Z':\n",
    "        upcnt+=1\n",
    "    elif 'a'<=ch<='z':\n",
    "        locnt+=1\n",
    "print(\"The sentence has\",digcnt,\"digits\",upcnt,\"upper case letters\",locnt,\"lower case letters\")"
   ]
  },
  {
   "cell_type": "code",
   "execution_count": 10,
   "id": "02b15140",
   "metadata": {},
   "outputs": [
    {
     "name": "stdout",
     "output_type": "stream",
     "text": [
      "Enter string 1\n",
      "Python Exercises\n",
      "Enter string 2\n",
      "Python Exercise\n",
      "Similarity between two said strings:\n",
      "0.9375\n"
     ]
    }
   ],
   "source": [
    "str1=input(\"Enter string 1\\n\")\n",
    "str2=input(\"Enter string 2\\n\")\n",
    "if len(str2)<len(str1):\n",
    "    short=len(str2)\n",
    "    long=len(str1)\n",
    "else:\n",
    "    short=len(str1)\n",
    "    long=len(str2)\n",
    "matchcnt=0\n",
    "for i in range(short):\n",
    "    if str1[i]==str2[i]:\n",
    "        matchcnt+=1\n",
    "print(\"Similarity between two said strings:\")\n",
    "print(matchcnt/long)"
   ]
  },
  {
   "cell_type": "code",
   "execution_count": 1,
   "id": "a7148f96",
   "metadata": {},
   "outputs": [
    {
     "name": "stdout",
     "output_type": "stream",
     "text": [
      "Enter marks for test1:34\n",
      "Enter marks for test2:34\n",
      "Enter marks for test3:34\n",
      "Average of best two test marks out of three test's marks is 34.0\n"
     ]
    }
   ],
   "source": [
    "m1=int(input(\"Enter marks for test1:\")) \n",
    "m2=int(input(\"Enter marks for test2:\")) \n",
    "m3=int(input(\"Enter marks for test3:\")) \n",
    "if m1<=m2 and m1<=m3: \n",
    "    avgMarks=(m2+m3)/2 \n",
    "elif m2<=m1 and m2<=m3: \n",
    "    avgMarks=(m1+m3)/2 \n",
    "elif m3<=m1 and m2<=m2: \n",
    "    avgMarks=(m1+m2)/2\n",
    "print(\"Average of best two test marks out of three test's marks is\",avgMarks)"
   ]
  },
  {
   "cell_type": "code",
   "execution_count": 2,
   "id": "56c25410",
   "metadata": {},
   "outputs": [
    {
     "name": "stdout",
     "output_type": "stream",
     "text": [
      "enter a number:5\n",
      "fn(5)=3\n"
     ]
    }
   ],
   "source": [
    "def fn(n):\n",
    "    if n==1:\n",
    "        return 0\n",
    "    elif n==2:\n",
    "        return 1\n",
    "    else:\n",
    "        return fn(n-1)+fn(n-2)\n",
    "num=int(input(\"enter a number:\"))\n",
    "if num>0:\n",
    "    print(\"fn(\",num,\")=\",fn(num),sep=\"\")\n",
    "else:\n",
    "    print(\"error in input\")"
   ]
  },
  {
   "cell_type": "code",
   "execution_count": 3,
   "id": "a4095b83",
   "metadata": {},
   "outputs": [
    {
     "name": "stdout",
     "output_type": "stream",
     "text": [
      "Enter a value:1234234\n",
      "not palindrome\n",
      "1 appears 1 times\n",
      "2 appears 2 times\n",
      "3 appears 2 times\n",
      "4 appears 2 times\n"
     ]
    }
   ],
   "source": [
    "val=int(input(\"Enter a value:\"))\n",
    "str_val=str(val)\n",
    "if str_val==str_val[::-1]:\n",
    "    print(\"Palindrome\")\n",
    "else:\n",
    "    print(\"not palindrome\")\n",
    "for i in range(10):\n",
    "    if str_val.count(str(i))>0:\n",
    "        print(str(i),\"appears\",str_val.count(str(i)),\"times\")\n",
    "        "
   ]
  }
 ],
 "metadata": {
  "kernelspec": {
   "display_name": "Python 3 (ipykernel)",
   "language": "python",
   "name": "python3"
  },
  "language_info": {
   "codemirror_mode": {
    "name": "ipython",
    "version": 3
   },
   "file_extension": ".py",
   "mimetype": "text/x-python",
   "name": "python",
   "nbconvert_exporter": "python",
   "pygments_lexer": "ipython3",
   "version": "3.10.9"
  }
 },
 "nbformat": 4,
 "nbformat_minor": 5
}
