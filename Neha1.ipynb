{
 "cells": [
  {
   "cell_type": "markdown",
   "id": "fe3966b0",
   "metadata": {},
   "source": [
    "m1=int(input(\"Enter marks for test1:\"))\n",
    "m2=int(input(\"Enter marks for test2:\"))\n",
    "m3=int(input(\"Enter marks for test3:\"))\n",
    "if m1<=m2 and m1<=m3:\n",
    "  avgMarks=(m2+m3)/2\n",
    "elif m2<=m1 and m2<=m3:\n",
    " avgMarks=(m1+m3)/2\n",
    "elif m3<=m1 and m2<=m2:\n",
    " avgMarks=(m1+m2)/2\n",
    "print(\"Average of best two test marks out of three test's marks is\",avgMarks);\n",
    " "
   ]
  },
  {
   "cell_type": "code",
   "execution_count": 3,
   "id": "6cc222fa",
   "metadata": {},
   "outputs": [
    {
     "name": "stdout",
     "output_type": "stream",
     "text": [
      "Enter marks for test1:45\n",
      "Enter marks for test2:39\n",
      "Enter marks for test3:48\n",
      "Average of best two test marks out of three test's marks is 46.5\n"
     ]
    }
   ],
   "source": [
    "m1=int(input(\"Enter marks for test1:\")) \n",
    "m2=int(input(\"Enter marks for test2:\")) \n",
    "m3=int(input(\"Enter marks for test3:\")) \n",
    "if m1<=m2 and m1<=m3: \n",
    "    avgMarks=(m2+m3)/2 \n",
    "elif m2<=m1 and m2<=m3: \n",
    "    avgMarks=(m1+m3)/2 \n",
    "elif m3<=m1 and m2<=m2: \n",
    "    avgMarks=(m1+m2)/2\n",
    "print(\"Average of best two test marks out of three test's marks is\",avgMarks)\n"
   ]
  },
  {
   "cell_type": "code",
   "execution_count": 8,
   "id": "70956ab1",
   "metadata": {},
   "outputs": [
    {
     "name": "stdout",
     "output_type": "stream",
     "text": [
      "Enter a value:565\n",
      "Palindrome\n",
      "5 appears 2 times\n",
      "6 appears 1 times\n"
     ]
    }
   ],
   "source": [
    "val=int(input(\"Enter a value:\"))\n",
    "str_val=str(val)\n",
    "if str_val==str_val[::-1]:\n",
    "    print(\"Palindrome\")\n",
    "else:\n",
    "    print(\"not palindrome\")\n",
    "for i in range(10):\n",
    "    if str_val.count(str(i))>0:\n",
    "        print(str(i),\"appears\",str_val.count(str(i)),\"times\");\n",
    "        "
   ]
  },
  {
   "cell_type": "code",
   "execution_count": null,
   "id": "c2fe55e4",
   "metadata": {},
   "outputs": [],
   "source": [
    "def fn(n):\n",
    "    if n==1:\n",
    "        return 0\n",
    "    elif n==2:\n",
    "        return 1\n",
    "    else:\n",
    "        "
   ]
  },
  {
   "cell_type": "code",
   "execution_count": 2,
   "id": "d02b2d66",
   "metadata": {},
   "outputs": [
    {
     "ename": "KeyboardInterrupt",
     "evalue": "Interrupted by user",
     "output_type": "error",
     "traceback": [
      "\u001b[1;31m---------------------------------------------------------------------------\u001b[0m",
      "\u001b[1;31mKeyboardInterrupt\u001b[0m                         Traceback (most recent call last)",
      "Cell \u001b[1;32mIn[2], line 28\u001b[0m\n\u001b[0;32m     26\u001b[0m         \u001b[38;5;28mhex\u001b[39m\u001b[38;5;241m=\u001b[39m\u001b[38;5;124m\"\u001b[39m\u001b[38;5;124m\"\u001b[39m\u001b[38;5;241m.\u001b[39mjoin(n1)\n\u001b[0;32m     27\u001b[0m         \u001b[38;5;28;01mreturn\u001b[39;00m \u001b[38;5;28mhex\u001b[39m\n\u001b[1;32m---> 28\u001b[0m num1\u001b[38;5;241m=\u001b[39m\u001b[38;5;28;43minput\u001b[39;49m\u001b[43m(\u001b[49m\u001b[38;5;124;43m\"\u001b[39;49m\u001b[38;5;124;43mEnter a binary number:\u001b[39;49m\u001b[38;5;124;43m\"\u001b[39;49m\u001b[43m)\u001b[49m\n\u001b[0;32m     29\u001b[0m \u001b[38;5;28mprint\u001b[39m(bin2dec(num1))\n\u001b[0;32m     30\u001b[0m num2\u001b[38;5;241m=\u001b[39m\u001b[38;5;28minput\u001b[39m(\u001b[38;5;124m\"\u001b[39m\u001b[38;5;124mEnter an octal number:\u001b[39m\u001b[38;5;124m\"\u001b[39m)\n",
      "File \u001b[1;32m~\\anaconda3\\lib\\site-packages\\ipykernel\\kernelbase.py:1175\u001b[0m, in \u001b[0;36mKernel.raw_input\u001b[1;34m(self, prompt)\u001b[0m\n\u001b[0;32m   1171\u001b[0m \u001b[38;5;28;01mif\u001b[39;00m \u001b[38;5;129;01mnot\u001b[39;00m \u001b[38;5;28mself\u001b[39m\u001b[38;5;241m.\u001b[39m_allow_stdin:\n\u001b[0;32m   1172\u001b[0m     \u001b[38;5;28;01mraise\u001b[39;00m StdinNotImplementedError(\n\u001b[0;32m   1173\u001b[0m         \u001b[38;5;124m\"\u001b[39m\u001b[38;5;124mraw_input was called, but this frontend does not support input requests.\u001b[39m\u001b[38;5;124m\"\u001b[39m\n\u001b[0;32m   1174\u001b[0m     )\n\u001b[1;32m-> 1175\u001b[0m \u001b[38;5;28;01mreturn\u001b[39;00m \u001b[38;5;28;43mself\u001b[39;49m\u001b[38;5;241;43m.\u001b[39;49m\u001b[43m_input_request\u001b[49m\u001b[43m(\u001b[49m\n\u001b[0;32m   1176\u001b[0m \u001b[43m    \u001b[49m\u001b[38;5;28;43mstr\u001b[39;49m\u001b[43m(\u001b[49m\u001b[43mprompt\u001b[49m\u001b[43m)\u001b[49m\u001b[43m,\u001b[49m\n\u001b[0;32m   1177\u001b[0m \u001b[43m    \u001b[49m\u001b[38;5;28;43mself\u001b[39;49m\u001b[38;5;241;43m.\u001b[39;49m\u001b[43m_parent_ident\u001b[49m\u001b[43m[\u001b[49m\u001b[38;5;124;43m\"\u001b[39;49m\u001b[38;5;124;43mshell\u001b[39;49m\u001b[38;5;124;43m\"\u001b[39;49m\u001b[43m]\u001b[49m\u001b[43m,\u001b[49m\n\u001b[0;32m   1178\u001b[0m \u001b[43m    \u001b[49m\u001b[38;5;28;43mself\u001b[39;49m\u001b[38;5;241;43m.\u001b[39;49m\u001b[43mget_parent\u001b[49m\u001b[43m(\u001b[49m\u001b[38;5;124;43m\"\u001b[39;49m\u001b[38;5;124;43mshell\u001b[39;49m\u001b[38;5;124;43m\"\u001b[39;49m\u001b[43m)\u001b[49m\u001b[43m,\u001b[49m\n\u001b[0;32m   1179\u001b[0m \u001b[43m    \u001b[49m\u001b[43mpassword\u001b[49m\u001b[38;5;241;43m=\u001b[39;49m\u001b[38;5;28;43;01mFalse\u001b[39;49;00m\u001b[43m,\u001b[49m\n\u001b[0;32m   1180\u001b[0m \u001b[43m\u001b[49m\u001b[43m)\u001b[49m\n",
      "File \u001b[1;32m~\\anaconda3\\lib\\site-packages\\ipykernel\\kernelbase.py:1217\u001b[0m, in \u001b[0;36mKernel._input_request\u001b[1;34m(self, prompt, ident, parent, password)\u001b[0m\n\u001b[0;32m   1214\u001b[0m             \u001b[38;5;28;01mbreak\u001b[39;00m\n\u001b[0;32m   1215\u001b[0m \u001b[38;5;28;01mexcept\u001b[39;00m \u001b[38;5;167;01mKeyboardInterrupt\u001b[39;00m:\n\u001b[0;32m   1216\u001b[0m     \u001b[38;5;66;03m# re-raise KeyboardInterrupt, to truncate traceback\u001b[39;00m\n\u001b[1;32m-> 1217\u001b[0m     \u001b[38;5;28;01mraise\u001b[39;00m \u001b[38;5;167;01mKeyboardInterrupt\u001b[39;00m(\u001b[38;5;124m\"\u001b[39m\u001b[38;5;124mInterrupted by user\u001b[39m\u001b[38;5;124m\"\u001b[39m) \u001b[38;5;28;01mfrom\u001b[39;00m \u001b[38;5;28mNone\u001b[39m\n\u001b[0;32m   1218\u001b[0m \u001b[38;5;28;01mexcept\u001b[39;00m \u001b[38;5;167;01mException\u001b[39;00m:\n\u001b[0;32m   1219\u001b[0m     \u001b[38;5;28mself\u001b[39m\u001b[38;5;241m.\u001b[39mlog\u001b[38;5;241m.\u001b[39mwarning(\u001b[38;5;124m\"\u001b[39m\u001b[38;5;124mInvalid Message:\u001b[39m\u001b[38;5;124m\"\u001b[39m, exc_info\u001b[38;5;241m=\u001b[39m\u001b[38;5;28;01mTrue\u001b[39;00m)\n",
      "\u001b[1;31mKeyboardInterrupt\u001b[0m: Interrupted by user"
     ]
    }
   ],
   "source": [
    "def bin2dec(val):\n",
    "    rev=val[::1]\n",
    "    dec=0\n",
    "    i=0\n",
    "    for dig in rev:\n",
    "        dec==int(dig)*2**i\n",
    "        i+=1\n",
    "    return dec\n",
    "def oct2hex(val):\n",
    "    rev=val[::1]\n",
    "    dec=0\n",
    "    i=0\n",
    "    for dig in rev:\n",
    "        dec+=int(dig)*8**i\n",
    "        i+=1\n",
    "    list=[]\n",
    "    while dec!=0:\n",
    "        list.append(dec%16)\n",
    "        dec=dec//16\n",
    "        n1=[]\n",
    "        for elem in list[::1]:\n",
    "            if ele<=9:\n",
    "               n1.append(str(ele))\n",
    "            else:\n",
    "                n1.append(chr(ord('A')+(ele-10)))\n",
    "        hex=\"\".join(n1)\n",
    "        return hex\n",
    "num1=input(\"Enter a binary number:\")\n",
    "print(bin2dec(num1))\n",
    "num2=input(\"Enter an octal number:\")\n",
    "print(oct2hex(num2))\n"
   ]
  },
  {
   "cell_type": "code",
   "execution_count": null,
   "id": "7bb8dd4e",
   "metadata": {},
   "outputs": [],
   "source": []
  }
 ],
 "metadata": {
  "kernelspec": {
   "display_name": "Python 3 (ipykernel)",
   "language": "python",
   "name": "python3"
  },
  "language_info": {
   "codemirror_mode": {
    "name": "ipython",
    "version": 3
   },
   "file_extension": ".py",
   "mimetype": "text/x-python",
   "name": "python",
   "nbconvert_exporter": "python",
   "pygments_lexer": "ipython3",
   "version": "3.10.9"
  }
 },
 "nbformat": 4,
 "nbformat_minor": 5
}
